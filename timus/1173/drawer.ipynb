{
 "cells": [
  {
   "cell_type": "code",
   "execution_count": 8,
   "metadata": {},
   "outputs": [],
   "source": [
    "# format 1444 input tests -> 1173\n",
    "\n",
    "from matplotlib.pyplot import *\n",
    "\n",
    "f = open('in.txt')\n",
    "nw_f = open('in_new.txt', 'w+')\n",
    "t = int(f.readline())\n",
    "nw_f.write(str(t) + \"\\n\")\n",
    "tests = []\n",
    "for idx in range(t):\n",
    "    n = int(f.readline())\n",
    "    pt = []\n",
    "    for num_line in range(n):\n",
    "        line = f.readline()\n",
    "        pt.append([int(i) for i in line.split()])\n",
    "    nw_f.write(str(pt[0][0]) + \" \" + str(pt[0][1]) + \"\\n\")\n",
    "    nw_f.write(str(n - 1) + \"\\n\")\n",
    "    for i in range(n - 1):\n",
    "        nw_f.write(str(pt[i + 1][0]) + \" \" + str(pt[i + 1][1]) + \" \" + str(i + 1) + \"\\n\")\n",
    "nw_f.close()"
   ]
  },
  {
   "cell_type": "code",
   "execution_count": 45,
   "metadata": {
    "collapsed": false,
    "jupyter": {
     "outputs_hidden": false
    }
   },
   "outputs": [
    {
     "name": "stdout",
     "output_type": "stream",
     "text": [
      "[[[0, 0], [0, 1], [1, 0], [1, 1]], [[0, 0], [1, 0], [0, -1], [1, -1]], [[0, 0], [1, 0], [0, -1], [1, -1], [4, 5], [4, 3], [-1, 2], [-3, 4]]]\n"
     ]
    }
   ],
   "source": [
    "f = open('in_new.txt')\n",
    "t = int(f.readline())\n",
    "tests = []\n",
    "for idx in range(t):\n",
    "    pt = []\n",
    "    line = f.readline()\n",
    "    pt.append([int(i) for i in line.split()])\n",
    "    n = int(f.readline())\n",
    "    for num_line in range(n):\n",
    "        line = f.readline()\n",
    "        split = line.split()\n",
    "        pt.append([int(split[0]), int(split[1])])\n",
    "    tests.append(pt)\n",
    "print(tests)"
   ]
  },
  {
   "cell_type": "code",
   "execution_count": 46,
   "metadata": {
    "collapsed": false,
    "jupyter": {
     "outputs_hidden": false
    }
   },
   "outputs": [
    {
     "name": "stdout",
     "output_type": "stream",
     "text": [
      "3\n"
     ]
    }
   ],
   "source": [
    "out = open('out.txt')\n",
    "ans = []\n",
    "for idx in range(t):\n",
    "    res_n = len(tests[idx])\n",
    "    res = []\n",
    "    for line_num in range(res_n + 1):\n",
    "        res.append(int(out.readline()))\n",
    "    ans.append(res)\n",
    "print(len(ans))"
   ]
  },
  {
   "cell_type": "code",
   "execution_count": 47,
   "metadata": {
    "collapsed": false,
    "jupyter": {
     "outputs_hidden": false
    }
   },
   "outputs": [
    {
     "name": "stdout",
     "output_type": "stream",
     "text": [
      "[{0: [0, 0]}, {1: [0, 1]}, {2: [1, 0]}, {3: [1, 1]}]\n",
      "[0, 2, 3, 1, 0]\n"
     ]
    },
    {
     "data": {
      "image/png": "[encoded data removed]",
      "text/plain": [
       "<Figure size 432x288 with 1 Axes>"
      ]
     },
     "metadata": {
      "needs_background": "light"
     },
     "output_type": "display_data"
    },
    {
     "name": "stdout",
     "output_type": "stream",
     "text": [
      "[{0: [0, 0]}, {1: [1, 0]}, {2: [0, -1]}, {3: [1, -1]}]\n",
      "[0, 2, 3, 1, 0]\n"
     ]
    },
    {
     "data": {
      "image/png": "[encoded data removed]",
      "text/plain": [
       "<Figure size 432x288 with 1 Axes>"
      ]
     },
     "metadata": {
      "needs_background": "light"
     },
     "output_type": "display_data"
    },
    {
     "name": "stdout",
     "output_type": "stream",
     "text": [
      "[{0: [0, 0]}, {1: [1, 0]}, {2: [0, -1]}, {3: [1, -1]}, {4: [4, 5]}, {5: [4, 3]}, {6: [-1, 2]}, {7: [-3, 4]}]\n",
      "[0, 2, 3, 5, 4, 1, 6, 7, 0]\n"
     ]
    },
    {
     "data": {
      "image/png": "[encoded data removed]",
      "text/plain": [
       "<Figure size 432x288 with 1 Axes>"
      ]
     },
     "metadata": {
      "needs_background": "light"
     },
     "output_type": "display_data"
    }
   ],
   "source": [
    "def to_map(item1, item2):\n",
    "    return {item1: item2}\n",
    "\n",
    "for num in range(t):\n",
    "    p = tests[num]\n",
    "    res = ans[num]\n",
    "    idxs = [i for i in range(len(p))]\n",
    "    print(list(map(to_map, idxs, p)))\n",
    "    print(res)\n",
    "    plot([v[0] for v in p],[v[1] for v in p],'ro')\n",
    "    plot([p[i][0] for i in res], [p[i][1] for i in res],'b-')\n",
    "    axis('equal'); grid(); show()"
   ]
  },
  {
   "cell_type": "code",
   "execution_count": null,
   "metadata": {
    "collapsed": false,
    "jupyter": {
     "outputs_hidden": false
    }
   },
   "outputs": [],
   "source": []
  }
 ],
 "metadata": {
  "kernelspec": {
   "display_name": "Python 3",
   "language": "python",
   "name": "python3"
  },
  "language_info": {
   "codemirror_mode": {
    "name": "ipython",
    "version": 3
   },
   "file_extension": ".py",
   "mimetype": "text/x-python",
   "name": "python",
   "nbconvert_exporter": "python",
   "pygments_lexer": "ipython3",
   "version": "3.7.2"
  }
 },
 "nbformat": 4,
 "nbformat_minor": 4
}
